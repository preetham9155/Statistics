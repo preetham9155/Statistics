{
 "cells": [
  {
   "cell_type": "markdown",
   "id": "98267faf-52c6-4537-ae83-a9767d56b0eb",
   "metadata": {},
   "source": [
    "# Random Variable\n",
    "# Confidence Interval \n",
    "# Z distribution or Normal distribution\n",
    "# T distribution"
   ]
  },
  {
   "cell_type": "code",
   "execution_count": 2,
   "id": "1d1f30a9-5e39-4b9c-bea9-b3f2ab65a934",
   "metadata": {},
   "outputs": [],
   "source": [
    "from scipy import stats\n",
    "import pandas as pd\n",
    "import numpy as np"
   ]
  },
  {
   "cell_type": "code",
   "execution_count": 14,
   "id": "614d5fe7-474f-44e4-b648-fd8a2b6f8206",
   "metadata": {},
   "outputs": [
    {
     "data": {
      "text/html": [
       "<div>\n",
       "<style scoped>\n",
       "    .dataframe tbody tr th:only-of-type {\n",
       "        vertical-align: middle;\n",
       "    }\n",
       "\n",
       "    .dataframe tbody tr th {\n",
       "        vertical-align: top;\n",
       "    }\n",
       "\n",
       "    .dataframe thead th {\n",
       "        text-align: right;\n",
       "    }\n",
       "</style>\n",
       "<table border=\"1\" class=\"dataframe\">\n",
       "  <thead>\n",
       "    <tr style=\"text-align: right;\">\n",
       "      <th></th>\n",
       "      <th>Date</th>\n",
       "      <th>Date.1</th>\n",
       "      <th>Close</th>\n",
       "      <th>gain</th>\n",
       "    </tr>\n",
       "  </thead>\n",
       "  <tbody>\n",
       "    <tr>\n",
       "      <th>0</th>\n",
       "      <td>2010-01-05</td>\n",
       "      <td>2010-01-05</td>\n",
       "      <td>1616.80</td>\n",
       "      <td>-0.005444</td>\n",
       "    </tr>\n",
       "    <tr>\n",
       "      <th>1</th>\n",
       "      <td>2010-01-06</td>\n",
       "      <td>2010-01-06</td>\n",
       "      <td>1638.50</td>\n",
       "      <td>0.013422</td>\n",
       "    </tr>\n",
       "    <tr>\n",
       "      <th>2</th>\n",
       "      <td>2010-01-07</td>\n",
       "      <td>2010-01-07</td>\n",
       "      <td>1648.70</td>\n",
       "      <td>0.006225</td>\n",
       "    </tr>\n",
       "    <tr>\n",
       "      <th>3</th>\n",
       "      <td>2010-01-08</td>\n",
       "      <td>2010-01-08</td>\n",
       "      <td>1639.80</td>\n",
       "      <td>-0.005398</td>\n",
       "    </tr>\n",
       "    <tr>\n",
       "      <th>4</th>\n",
       "      <td>2010-01-11</td>\n",
       "      <td>2010-01-11</td>\n",
       "      <td>1629.45</td>\n",
       "      <td>-0.006312</td>\n",
       "    </tr>\n",
       "    <tr>\n",
       "      <th>...</th>\n",
       "      <td>...</td>\n",
       "      <td>...</td>\n",
       "      <td>...</td>\n",
       "      <td>...</td>\n",
       "    </tr>\n",
       "    <tr>\n",
       "      <th>1733</th>\n",
       "      <td>2016-12-26</td>\n",
       "      <td>2016-12-26</td>\n",
       "      <td>2723.50</td>\n",
       "      <td>-0.001283</td>\n",
       "    </tr>\n",
       "    <tr>\n",
       "      <th>1734</th>\n",
       "      <td>2016-12-27</td>\n",
       "      <td>2016-12-27</td>\n",
       "      <td>2701.75</td>\n",
       "      <td>-0.007986</td>\n",
       "    </tr>\n",
       "    <tr>\n",
       "      <th>1735</th>\n",
       "      <td>2016-12-28</td>\n",
       "      <td>2016-12-28</td>\n",
       "      <td>2702.15</td>\n",
       "      <td>0.000148</td>\n",
       "    </tr>\n",
       "    <tr>\n",
       "      <th>1736</th>\n",
       "      <td>2016-12-29</td>\n",
       "      <td>2016-12-29</td>\n",
       "      <td>2727.90</td>\n",
       "      <td>0.009529</td>\n",
       "    </tr>\n",
       "    <tr>\n",
       "      <th>1737</th>\n",
       "      <td>2016-12-30</td>\n",
       "      <td>2016-12-30</td>\n",
       "      <td>2729.80</td>\n",
       "      <td>0.000697</td>\n",
       "    </tr>\n",
       "  </tbody>\n",
       "</table>\n",
       "<p>1738 rows × 4 columns</p>\n",
       "</div>"
      ],
      "text/plain": [
       "            Date      Date.1    Close      gain\n",
       "0     2010-01-05  2010-01-05  1616.80 -0.005444\n",
       "1     2010-01-06  2010-01-06  1638.50  0.013422\n",
       "2     2010-01-07  2010-01-07  1648.70  0.006225\n",
       "3     2010-01-08  2010-01-08  1639.80 -0.005398\n",
       "4     2010-01-11  2010-01-11  1629.45 -0.006312\n",
       "...          ...         ...      ...       ...\n",
       "1733  2016-12-26  2016-12-26  2723.50 -0.001283\n",
       "1734  2016-12-27  2016-12-27  2701.75 -0.007986\n",
       "1735  2016-12-28  2016-12-28  2702.15  0.000148\n",
       "1736  2016-12-29  2016-12-29  2727.90  0.009529\n",
       "1737  2016-12-30  2016-12-30  2729.80  0.000697\n",
       "\n",
       "[1738 rows x 4 columns]"
      ]
     },
     "execution_count": 14,
     "metadata": {},
     "output_type": "execute_result"
    }
   ],
   "source": [
    "glaxo_df=pd.read_csv(\"C:/Users/preet/Downloads/glaxo_df.csv\")\n",
    "glaxo_df"
   ]
  },
  {
   "cell_type": "code",
   "execution_count": 12,
   "id": "2a35ff39-0f88-45ab-b1be-9b3ef743a170",
   "metadata": {},
   "outputs": [
    {
     "data": {
      "text/html": [
       "<div>\n",
       "<style scoped>\n",
       "    .dataframe tbody tr th:only-of-type {\n",
       "        vertical-align: middle;\n",
       "    }\n",
       "\n",
       "    .dataframe tbody tr th {\n",
       "        vertical-align: top;\n",
       "    }\n",
       "\n",
       "    .dataframe thead th {\n",
       "        text-align: right;\n",
       "    }\n",
       "</style>\n",
       "<table border=\"1\" class=\"dataframe\">\n",
       "  <thead>\n",
       "    <tr style=\"text-align: right;\">\n",
       "      <th></th>\n",
       "      <th>Date</th>\n",
       "      <th>Date.1</th>\n",
       "      <th>Close</th>\n",
       "      <th>gain</th>\n",
       "    </tr>\n",
       "  </thead>\n",
       "  <tbody>\n",
       "    <tr>\n",
       "      <th>0</th>\n",
       "      <td>2010-01-05</td>\n",
       "      <td>2010-01-05</td>\n",
       "      <td>1134.60</td>\n",
       "      <td>-0.000881</td>\n",
       "    </tr>\n",
       "    <tr>\n",
       "      <th>1</th>\n",
       "      <td>2010-01-06</td>\n",
       "      <td>2010-01-06</td>\n",
       "      <td>1139.60</td>\n",
       "      <td>0.004407</td>\n",
       "    </tr>\n",
       "    <tr>\n",
       "      <th>2</th>\n",
       "      <td>2010-01-07</td>\n",
       "      <td>2010-01-07</td>\n",
       "      <td>1144.15</td>\n",
       "      <td>0.003993</td>\n",
       "    </tr>\n",
       "    <tr>\n",
       "      <th>3</th>\n",
       "      <td>2010-01-08</td>\n",
       "      <td>2010-01-08</td>\n",
       "      <td>1144.05</td>\n",
       "      <td>-0.000087</td>\n",
       "    </tr>\n",
       "    <tr>\n",
       "      <th>4</th>\n",
       "      <td>2010-01-11</td>\n",
       "      <td>2010-01-11</td>\n",
       "      <td>1137.00</td>\n",
       "      <td>-0.006162</td>\n",
       "    </tr>\n",
       "    <tr>\n",
       "      <th>...</th>\n",
       "      <td>...</td>\n",
       "      <td>...</td>\n",
       "      <td>...</td>\n",
       "      <td>...</td>\n",
       "    </tr>\n",
       "    <tr>\n",
       "      <th>1733</th>\n",
       "      <td>2016-12-26</td>\n",
       "      <td>2016-12-26</td>\n",
       "      <td>950.25</td>\n",
       "      <td>-0.021924</td>\n",
       "    </tr>\n",
       "    <tr>\n",
       "      <th>1734</th>\n",
       "      <td>2016-12-27</td>\n",
       "      <td>2016-12-27</td>\n",
       "      <td>975.70</td>\n",
       "      <td>0.026782</td>\n",
       "    </tr>\n",
       "    <tr>\n",
       "      <th>1735</th>\n",
       "      <td>2016-12-28</td>\n",
       "      <td>2016-12-28</td>\n",
       "      <td>974.40</td>\n",
       "      <td>-0.001332</td>\n",
       "    </tr>\n",
       "    <tr>\n",
       "      <th>1736</th>\n",
       "      <td>2016-12-29</td>\n",
       "      <td>2016-12-29</td>\n",
       "      <td>986.05</td>\n",
       "      <td>0.011956</td>\n",
       "    </tr>\n",
       "    <tr>\n",
       "      <th>1737</th>\n",
       "      <td>2016-12-30</td>\n",
       "      <td>2016-12-30</td>\n",
       "      <td>1000.60</td>\n",
       "      <td>0.014756</td>\n",
       "    </tr>\n",
       "  </tbody>\n",
       "</table>\n",
       "<p>1738 rows × 4 columns</p>\n",
       "</div>"
      ],
      "text/plain": [
       "            Date      Date.1    Close      gain\n",
       "0     2010-01-05  2010-01-05  1134.60 -0.000881\n",
       "1     2010-01-06  2010-01-06  1139.60  0.004407\n",
       "2     2010-01-07  2010-01-07  1144.15  0.003993\n",
       "3     2010-01-08  2010-01-08  1144.05 -0.000087\n",
       "4     2010-01-11  2010-01-11  1137.00 -0.006162\n",
       "...          ...         ...      ...       ...\n",
       "1733  2016-12-26  2016-12-26   950.25 -0.021924\n",
       "1734  2016-12-27  2016-12-27   975.70  0.026782\n",
       "1735  2016-12-28  2016-12-28   974.40 -0.001332\n",
       "1736  2016-12-29  2016-12-29   986.05  0.011956\n",
       "1737  2016-12-30  2016-12-30  1000.60  0.014756\n",
       "\n",
       "[1738 rows x 4 columns]"
      ]
     },
     "execution_count": 12,
     "metadata": {},
     "output_type": "execute_result"
    }
   ],
   "source": [
    "beml_df=pd.read_csv(\"C:/Users/preet/Downloads/beml_df.csv\")\n",
    "beml_df"
   ]
  },
  {
   "cell_type": "markdown",
   "id": "31930da5-5dad-4932-a5b1-73cd847f737c",
   "metadata": {},
   "source": [
    "# Confidence interval using Normal Distribution"
   ]
  },
  {
   "cell_type": "code",
   "execution_count": null,
   "id": "8b95656e-b8d5-4a62-83bb-c99c96ba159b",
   "metadata": {},
   "outputs": [],
   "source": [
    "# It is used when we know the std deviation of population"
   ]
  },
  {
   "cell_type": "code",
   "execution_count": 27,
   "id": "df2f0b47-2605-49b5-9190-4d3ebc4bf6de",
   "metadata": {},
   "outputs": [
    {
     "name": "stdout",
     "output_type": "stream",
     "text": [
      "95% Confidence Interval is: [-0.0258  0.0266]\n"
     ]
    }
   ],
   "source": [
    "glaxo_df_ci=stats.norm.interval(0.95,loc=glaxo_df.gain.mean(),scale=glaxo_df.gain.std())\n",
    "glaxo_df_ci\n",
    "print(\"95% Confidence Interval is:\",np.round(glaxo_df_ci,4))\n",
    "# profit or loss are in range of -2.5% to 2.6% "
   ]
  },
  {
   "cell_type": "code",
   "execution_count": 35,
   "id": "8c928d28-69d1-49ac-bd88-f0cbe95a1cb9",
   "metadata": {},
   "outputs": [
    {
     "name": "stdout",
     "output_type": "stream",
     "text": [
      "95% confidence interval is: [-0.0515  0.0521]\n"
     ]
    }
   ],
   "source": [
    "beml_df_ci=stats.norm.interval(0.95,loc=beml_df.gain.mean(),scale=beml_df.gain.std())\n",
    "beml_df_ci\n",
    "print(\"95% confidence interval is:\",np.round(beml_df_ci,4))\n",
    "# profit or loss are in range of-5.1% to 5.2%"
   ]
  },
  {
   "cell_type": "markdown",
   "id": "2602ccb4-b331-4024-af47-f09a6b81480a",
   "metadata": {},
   "source": [
    "# Confidence Interval using  T distribution"
   ]
  },
  {
   "cell_type": "code",
   "execution_count": 43,
   "id": "b74b9833-1860-4665-8b1d-60d85deb1f9f",
   "metadata": {},
   "outputs": [
    {
     "name": "stdout",
     "output_type": "stream",
     "text": [
      "95% confidence interval using t distribution is : [-0.0258  0.0266]\n"
     ]
    }
   ],
   "source": [
    "# Total number of records in glaxo are 1738 , n-1 = 1737\n",
    "# (1-alpha,n-1,mean,std)\n",
    "# 1-aplha = confidence \n",
    "#     n-1 = degree of freedom\n",
    "\n",
    "glaxo_df_ci_t=stats.t.interval(0.95,1737,glaxo_df.gain.mean(),glaxo_df.gain.std())\n",
    "glaxo_df_ci_t\n",
    "print(\"95% confidence interval using t distribution is :\",np.round(glaxo_df_ci_t,4))"
   ]
  },
  {
   "cell_type": "code",
   "execution_count": 45,
   "id": "02db4e43-034c-4d7e-9cbc-d7d99889fe61",
   "metadata": {},
   "outputs": [
    {
     "name": "stdout",
     "output_type": "stream",
     "text": [
      "95% confidence interval using t distribution is : [-0.0516  0.0521]\n"
     ]
    }
   ],
   "source": [
    "beml_df_ci_t=stats.t.interval(0.95,1737,beml_df.gain.mean(),beml_df.gain.std())\n",
    "beml_df_ci_t\n",
    "print(\"95% confidence interval using t distribution is :\",np.round(beml_df_ci_t,4))"
   ]
  },
  {
   "cell_type": "code",
   "execution_count": null,
   "id": "1c5faa5e-68c6-445b-a8ef-900e0b59f830",
   "metadata": {},
   "outputs": [],
   "source": []
  }
 ],
 "metadata": {
  "kernelspec": {
   "display_name": "Python 3 (ipykernel)",
   "language": "python",
   "name": "python3"
  },
  "language_info": {
   "codemirror_mode": {
    "name": "ipython",
    "version": 3
   },
   "file_extension": ".py",
   "mimetype": "text/x-python",
   "name": "python",
   "nbconvert_exporter": "python",
   "pygments_lexer": "ipython3",
   "version": "3.12.4"
  }
 },
 "nbformat": 4,
 "nbformat_minor": 5
}
